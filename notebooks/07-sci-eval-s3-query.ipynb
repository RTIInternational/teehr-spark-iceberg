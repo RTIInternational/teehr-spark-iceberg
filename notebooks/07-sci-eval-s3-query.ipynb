{
 "cells": [
  {
   "cell_type": "markdown",
   "id": "247fb2ab",
   "metadata": {},
   "source": [
    "### TEEHR with Spark and Iceberg"
   ]
  },
  {
   "cell_type": "code",
   "execution_count": 1,
   "id": "d21cdf61-0056-4208-baf6-8c223d6481a9",
   "metadata": {},
   "outputs": [],
   "source": [
    "import os\n",
    "import duckdb\n",
    "import numpy as np\n",
    "from pyspark.sql.functions import pandas_udf\n",
    "import pandas as pd\n",
    "from urllib.request import urlretrieve\n",
    "import gc"
   ]
  },
  {
   "cell_type": "code",
   "execution_count": 2,
   "id": "f2f16fa4-e55a-42d7-98f6-bc9457f6798c",
   "metadata": {},
   "outputs": [],
   "source": [
    "from pyspark.sql import SparkSession\n",
    "from pyspark import SparkConf"
   ]
  },
  {
   "cell_type": "code",
   "execution_count": 3,
   "id": "d4230e7f-7edd-4ce2-867a-5dd9e5033387",
   "metadata": {},
   "outputs": [],
   "source": [
    "config = {\n",
    "    \"spark.kubernetes.authenticate.driver.serviceAccountName\": \"jupyter\",\n",
    "    \"spark.kubernetes.namespace\": \"teehr-spark-default\",\n",
    "    \"spark.kubernetes.container.image\": os.environ[\"TEEHR_WORKER_IMAGE\"],\n",
    "    \"spark.executor.extraJavaOptions=-Daws.region\": \"us-east-1\",\n",
    "    \"spark.driver.extraJavaOptions=-Daws.region\": \"us-east-1\",\n",
    "    \"spark.executor.instances\": \"6\",\n",
    "    \"spark.executor.memory\": \"16g\",\n",
    "    \"spark.executor.cores\": \"2\",\n",
    "    \"spark.driver.blockManager.port\": \"7777\",\n",
    "    \"spark.driver.port\": \"2222\",\n",
    "    \"spark.driver.host\": \"jupyter.teehr-spark-default.svc.cluster.local\",\n",
    "    \"spark.driver.bindAddress\": \"0.0.0.0\",\n",
    "    \"spark.hadoop.fs.s3a.impl\": \"org.apache.hadoop.fs.s3a.S3AFileSystem\",\n",
    "    \"spark.hadoop.fs.s3a.aws.credentials.provider\": \"org.apache.hadoop.fs.s3a.AnonymousAWSCredentialsProvider\",\n",
    "    \"spark.sql.catalog.demo.s3.access-key-id\": \"minio\",\n",
    "    \"spark.sql.catalog.demo.s3.secret-access-key\": \"password123\",\n",
    "    \"spark.sql.parquet.enableVectorizedReader\": \"false\",\n",
    "    \"spark.kubernetes.executor.node.selector.dedicated\": \"worker\",\n",
    "    \"spark.kubernetes.executor.podTemplateFile\": \"/home/spark/pod-template.yaml\",\n",
    "}\n",
    "\n",
    "def get_spark_session(app_name: str, conf: SparkConf):\n",
    "    conf.setMaster(\"k8s://https://kubernetes.default.svc.cluster.local\")\n",
    "    for key, value in config.items():\n",
    "        conf.set(key, value)    \n",
    "    return SparkSession.builder.appName(app_name).config(conf=conf).getOrCreate()"
   ]
  },
  {
   "cell_type": "code",
   "execution_count": 4,
   "id": "4aebae7c-bfdd-4074-b688-e3e5abbbd6b7",
   "metadata": {},
   "outputs": [
    {
     "name": "stderr",
     "output_type": "stream",
     "text": [
      "24/05/28 01:12:47 WARN NativeCodeLoader: Unable to load native-hadoop library for your platform... using builtin-java classes where applicable\n",
      "Setting default log level to \"WARN\".\n",
      "To adjust logging level use sc.setLogLevel(newLevel). For SparkR, use setLogLevel(newLevel).\n"
     ]
    }
   ],
   "source": [
    "spark = get_spark_session(\"teehr-workers\", SparkConf())\n",
    "# spark.sparkContext.getConf().getAll()"
   ]
  },
  {
   "cell_type": "code",
   "execution_count": 5,
   "id": "595871f4-e141-4a54-85f4-35b684a7a148",
   "metadata": {},
   "outputs": [
    {
     "name": "stderr",
     "output_type": "stream",
     "text": [
      "24/05/28 01:15:24 WARN MetricsConfig: Cannot locate configuration: tried hadoop-metrics2-s3a-file-system.properties,hadoop-metrics2.properties\n",
      "                                                                                \r"
     ]
    }
   ],
   "source": [
    "obs = spark.read.parquet(\"s3a://ciroh-rti-public-data/teehr/protocols/science-eval/timeseries/usgs*.parquet\")"
   ]
  },
  {
   "cell_type": "code",
   "execution_count": 6,
   "id": "c34d7c01-2c1b-4486-b706-302c180020c7",
   "metadata": {},
   "outputs": [
    {
     "name": "stderr",
     "output_type": "stream",
     "text": [
      "                                                                                \r"
     ]
    },
    {
     "data": {
      "text/plain": [
       "176063841"
      ]
     },
     "execution_count": 6,
     "metadata": {},
     "output_type": "execute_result"
    }
   ],
   "source": [
    "obs.count()"
   ]
  },
  {
   "cell_type": "code",
   "execution_count": 7,
   "id": "fb93232a-d927-4910-9676-e1625bf94046",
   "metadata": {},
   "outputs": [],
   "source": [
    "sim = spark.read.parquet(\"s3a://ciroh-rti-public-data/teehr/protocols/science-eval/timeseries/nwm2*.parquet\")"
   ]
  },
  {
   "cell_type": "code",
   "execution_count": 8,
   "id": "d2c94abd-f943-491f-9c54-873effb8edd6",
   "metadata": {},
   "outputs": [
    {
     "name": "stderr",
     "output_type": "stream",
     "text": [
      "                                                                                \r"
     ]
    },
    {
     "data": {
      "text/plain": [
       "399505152"
      ]
     },
     "execution_count": 8,
     "metadata": {},
     "output_type": "execute_result"
    }
   ],
   "source": [
    "sim.count()"
   ]
  },
  {
   "cell_type": "code",
   "execution_count": 9,
   "id": "b9291c97-8c9e-4c69-8253-46dccbe91a3c",
   "metadata": {},
   "outputs": [],
   "source": [
    "xw = spark.read.parquet(\"s3a://ciroh-rti-public-data/teehr/common/geo/usgs_nwm2*_crosswalk.conus.parquet\")"
   ]
  },
  {
   "cell_type": "code",
   "execution_count": 10,
   "id": "76973fd2-14cb-4279-bc7a-c3c8e296b787",
   "metadata": {},
   "outputs": [
    {
     "data": {
      "text/plain": [
       "22835"
      ]
     },
     "execution_count": 10,
     "metadata": {},
     "output_type": "execute_result"
    }
   ],
   "source": [
    "xw.count()"
   ]
  },
  {
   "cell_type": "code",
   "execution_count": 11,
   "id": "8c3baa0b-5813-4920-8f50-262c2107e0e9",
   "metadata": {},
   "outputs": [],
   "source": [
    "obs.createTempView(\"obs_temp\")"
   ]
  },
  {
   "cell_type": "code",
   "execution_count": 12,
   "id": "0f01e392-c7bf-4adc-b633-b0a85940caf1",
   "metadata": {},
   "outputs": [],
   "source": [
    "sim.createTempView(\"sim_temp\")"
   ]
  },
  {
   "cell_type": "code",
   "execution_count": 13,
   "id": "8fc1c60e-ba27-43bd-a0e4-e7a5e3e39fae",
   "metadata": {},
   "outputs": [],
   "source": [
    "xw.createTempView(\"xw_temp\")"
   ]
  },
  {
   "cell_type": "code",
   "execution_count": 14,
   "id": "30548e16-0cab-4815-905c-b92e749a8fac",
   "metadata": {},
   "outputs": [],
   "source": [
    "# Join from S3\n",
    "sdf = spark.sql(\"\"\"\n",
    "SELECT\n",
    "        sf.reference_time\n",
    "        , sf.value_time as value_time\n",
    "        , sf.location_id as secondary_location_id\n",
    "        , pf.reference_time as reference_time\n",
    "        , sf.value as secondary_value\n",
    "        , sf.configuration\n",
    "        , sf.measurement_unit\n",
    "        , sf.variable_name\n",
    "        , pf.value as primary_value\n",
    "        , pf.location_id as primary_location_id\n",
    "    FROM sim_temp sf\n",
    "    JOIN xw_temp cf\n",
    "        on cf.secondary_location_id = sf.location_id\n",
    "    JOIN obs_temp pf\n",
    "        on cf.primary_location_id = pf.location_id\n",
    "        and sf.value_time = pf.value_time\n",
    "        and sf.measurement_unit = pf.measurement_unit\n",
    "        and sf.variable_name = pf.variable_name\n",
    "\"\"\")"
   ]
  },
  {
   "cell_type": "code",
   "execution_count": 15,
   "id": "be3767ff-6a42-4dab-96d8-088d27ddc22f",
   "metadata": {},
   "outputs": [
    {
     "name": "stderr",
     "output_type": "stream",
     "text": [
      "[Stage 17:=====================================================> (97 + 3) / 100]\r"
     ]
    },
    {
     "name": "stdout",
     "output_type": "stream",
     "text": [
      "CPU times: user 104 ms, sys: 39.9 ms, total: 144 ms\n",
      "Wall time: 2min 52s\n"
     ]
    },
    {
     "name": "stderr",
     "output_type": "stream",
     "text": [
      "                                                                                \r"
     ]
    },
    {
     "data": {
      "text/plain": [
       "351877563"
      ]
     },
     "execution_count": 15,
     "metadata": {},
     "output_type": "execute_result"
    }
   ],
   "source": [
    "%%time\n",
    "sdf.count()"
   ]
  },
  {
   "cell_type": "code",
   "execution_count": 16,
   "id": "0ca02c56-b2ba-482b-ad74-f43fb7d0d3e0",
   "metadata": {},
   "outputs": [
    {
     "data": {
      "text/plain": [
       "<pyspark.sql.udf.UserDefinedFunction at 0x7f324acabf40>"
      ]
     },
     "execution_count": 16,
     "metadata": {},
     "output_type": "execute_result"
    }
   ],
   "source": [
    "from pandas_udfs import * \n",
    "spark.udf.register(\"teehr_kling_gupta_efficiency\", teehr_kling_gupta_efficiency)\n",
    "spark.udf.register(\"teehr_root_mean_squared_error\", teehr_root_mean_squared_error)\n",
    "spark.udf.register(\"teehr_relative_bias\", teehr_relative_bias)\n",
    "spark.udf.register(\"teehr_r_squared\", teehr_r_squared)"
   ]
  },
  {
   "cell_type": "code",
   "execution_count": 17,
   "id": "aae57474-89e9-40a6-894b-54ffa0dd0d4d",
   "metadata": {},
   "outputs": [
    {
     "name": "stderr",
     "output_type": "stream",
     "text": [
      "                                                                                \r"
     ]
    },
    {
     "name": "stdout",
     "output_type": "stream",
     "text": [
      "+-------------------+----------------------+-----------------------+-------------+-----------+\n",
      "|primary_location_id|kling_gupta_efficiency|root_mean_squared_error|relative_bias|  r_squared|\n",
      "+-------------------+----------------------+-----------------------+-------------+-----------+\n",
      "|      usgs-01010000|            0.42462006|               97.13046|   -0.2157014|  0.7913283|\n",
      "|      usgs-01010070|            0.44942167|              14.033999|  -0.28686345|  0.6007537|\n",
      "|      usgs-01010500|            0.27008584|              221.87845|   -0.3975725|  0.8074171|\n",
      "|      usgs-01011000|             0.6334492|              57.011288|  -0.19466422|  0.7688364|\n",
      "|      usgs-01013500|            0.54683834|              41.360138|  -0.23086037| 0.82660383|\n",
      "|      usgs-01014000|            0.37036318|              354.70465|  -0.35600448| 0.86370957|\n",
      "|      usgs-01015800|            0.72119784|              31.359137|  -0.14541015| 0.90401065|\n",
      "|      usgs-01017000|            0.76449686|              57.808865|  -0.09843478|  0.8892501|\n",
      "|      usgs-01017060|             0.6873558|              0.5079917|   0.07933129|  0.5164445|\n",
      "|      usgs-01017290|             0.4168857|              18.884745|  -0.21996878|  0.6675259|\n",
      "|      usgs-01017550|             0.4269873|              0.4415826|   0.41983798| 0.52192134|\n",
      "|      usgs-01017960|            0.67964256|               4.262498|  -0.21201137| 0.81922287|\n",
      "|      usgs-01018009|              0.769888|             0.44256148|   0.14787526|  0.6831904|\n",
      "|      usgs-01018035|            0.67143023|              11.717031|   -0.1973257| 0.84843445|\n",
      "|      usgs-01018500|             0.1872818|               22.00335|   -0.5378539|  0.2678657|\n",
      "|      usgs-01019000|            -0.2042034|               9.898839|   -0.5900839|  0.2126098|\n",
      "|      usgs-01021000|             0.3948086|              49.391823|  -0.39673084|  0.7035693|\n",
      "|      usgs-01021470|            0.36194554|             0.40687102|  -0.10617436|  0.5188219|\n",
      "|      usgs-01021480|             0.6604272|              1.1185906|   -0.1908394| 0.73515147|\n",
      "|      usgs-01022294|           -0.12970932|            0.014386292|   0.72382146|0.062768936|\n",
      "+-------------------+----------------------+-----------------------+-------------+-----------+\n",
      "\n",
      "CPU times: user 189 ms, sys: 48.8 ms, total: 237 ms\n",
      "Wall time: 3min 47s\n"
     ]
    }
   ],
   "source": [
    "%%time\n",
    "sdf = spark.sql(\"\"\"\n",
    "WITH joined as (\n",
    "    SELECT\n",
    "        sf.reference_time\n",
    "        , sf.value_time as value_time\n",
    "        , sf.location_id as secondary_location_id\n",
    "        , pf.reference_time as reference_time\n",
    "        , sf.value as secondary_value\n",
    "        , sf.configuration\n",
    "        , sf.measurement_unit\n",
    "        , sf.variable_name\n",
    "        , pf.value as primary_value\n",
    "        , pf.location_id as primary_location_id\n",
    "    FROM sim_temp sf\n",
    "    JOIN xw_temp cf\n",
    "        on cf.secondary_location_id = sf.location_id\n",
    "    JOIN obs_temp pf\n",
    "        on cf.primary_location_id = pf.location_id\n",
    "        and sf.value_time = pf.value_time\n",
    "        and sf.measurement_unit = pf.measurement_unit\n",
    "        and sf.variable_name = pf.variable_name\n",
    ")\n",
    ", metrics AS (\n",
    "    SELECT\n",
    "        joined.primary_location_id\n",
    "        , teehr_kling_gupta_efficiency(joined.primary_value, joined.secondary_value) as kling_gupta_efficiency\n",
    "        , teehr_root_mean_squared_error(joined.primary_value, joined.secondary_value) as root_mean_squared_error\n",
    "        , teehr_relative_bias(joined.primary_value, joined.secondary_value) as relative_bias\n",
    "        , teehr_r_squared(joined.primary_value, joined.secondary_value) as r_squared\n",
    "    FROM\n",
    "        joined\n",
    "    GROUP BY\n",
    "        joined.primary_location_id\n",
    ")\n",
    "SELECT\n",
    "    metrics.primary_location_id\n",
    "    , kling_gupta_efficiency\n",
    "    , root_mean_squared_error\n",
    "    , relative_bias\n",
    "    , r_squared\n",
    "FROM metrics\n",
    "ORDER BY\n",
    "    metrics.primary_location_id\n",
    "LIMIT 20;\n",
    "\"\"\")\n",
    "sdf.show()"
   ]
  },
  {
   "cell_type": "code",
   "execution_count": 19,
   "id": "0431956e-2b76-4654-a1df-62826edbc262",
   "metadata": {},
   "outputs": [],
   "source": [
    "joined = spark.read.parquet(\"s3a://ciroh-rti-public-data/teehr/protocols/science-eval/timeseries/joined*.parquet\")"
   ]
  },
  {
   "cell_type": "code",
   "execution_count": 20,
   "id": "08fa3e2b-5218-40bf-9395-9345a2af0348",
   "metadata": {},
   "outputs": [],
   "source": [
    "joined.createTempView(\"joined_temp\")"
   ]
  },
  {
   "cell_type": "code",
   "execution_count": 21,
   "id": "6e716247-7590-4abd-bdec-f85c916930d2",
   "metadata": {},
   "outputs": [
    {
     "name": "stderr",
     "output_type": "stream",
     "text": [
      "[Stage 35:======================================================> (40 + 1) / 41]\r"
     ]
    },
    {
     "name": "stdout",
     "output_type": "stream",
     "text": [
      "+-------------------+----------------------+-----------------------+-------------+-----------+\n",
      "|primary_location_id|kling_gupta_efficiency|root_mean_squared_error|relative_bias|  r_squared|\n",
      "+-------------------+----------------------+-----------------------+-------------+-----------+\n",
      "|      usgs-01010000|            0.42462006|              97.130455|  -0.21570143|  0.7913283|\n",
      "|      usgs-01010070|            0.44942167|              14.033999|  -0.28686342|  0.6007537|\n",
      "|      usgs-01010500|            0.27008584|              221.87843|   -0.3975725|  0.8074171|\n",
      "|      usgs-01011000|             0.6334492|              57.011288|  -0.19466424|  0.7688364|\n",
      "|      usgs-01013500|             0.5468384|              41.360138|  -0.23086038| 0.82660383|\n",
      "|      usgs-01014000|            0.37036318|              354.70468|   -0.3560045| 0.86370957|\n",
      "|      usgs-01015800|             0.7211978|              31.359137|  -0.14541014| 0.90401065|\n",
      "|      usgs-01017000|             0.7644969|              57.808865| -0.098434776|  0.8892501|\n",
      "|      usgs-01017060|             0.6873558|              0.5079917|    0.0793313|  0.5164445|\n",
      "|      usgs-01017290|             0.4168857|              18.884745|   -0.2199688|  0.6675259|\n",
      "|      usgs-01017550|            0.42698723|             0.44158256|   0.41983798| 0.52192134|\n",
      "|      usgs-01017960|             0.6796426|               4.262498|  -0.21201137| 0.81922287|\n",
      "|      usgs-01018009|             0.7698881|             0.44256148|   0.14787522|  0.6831904|\n",
      "|      usgs-01018035|            0.67143023|             11.7170315|   -0.1973257| 0.84843445|\n",
      "|      usgs-01018500|            0.18728171|               22.00335|  -0.53785384|  0.2678657|\n",
      "|      usgs-01019000|           -0.20420341|               9.898839|  -0.59008384| 0.21260978|\n",
      "|      usgs-01021000|            0.39480862|              49.391823|  -0.39673087|  0.7035693|\n",
      "|      usgs-01021470|            0.36194542|             0.40687102|  -0.10617434|  0.5188219|\n",
      "|      usgs-01021480|             0.6604272|              1.1185907|   -0.1908394| 0.73515147|\n",
      "|      usgs-01022294|            -0.1297094|            0.014386292|    0.7238215|0.062768936|\n",
      "+-------------------+----------------------+-----------------------+-------------+-----------+\n",
      "\n",
      "CPU times: user 55.6 ms, sys: 0 ns, total: 55.6 ms\n",
      "Wall time: 1min 4s\n"
     ]
    },
    {
     "name": "stderr",
     "output_type": "stream",
     "text": [
      "                                                                                \r"
     ]
    }
   ],
   "source": [
    "%%time\n",
    "sdf = spark.sql(\"\"\"\n",
    "WITH joined as (\n",
    "    SELECT\n",
    "        *\n",
    "    FROM joined_temp jt\n",
    ")\n",
    ", metrics AS (\n",
    "    SELECT\n",
    "        joined.primary_location_id\n",
    "        , teehr_kling_gupta_efficiency(joined.primary_value, joined.secondary_value) as kling_gupta_efficiency\n",
    "        , teehr_root_mean_squared_error(joined.primary_value, joined.secondary_value) as root_mean_squared_error\n",
    "        , teehr_relative_bias(joined.primary_value, joined.secondary_value) as relative_bias\n",
    "        , teehr_r_squared(joined.primary_value, joined.secondary_value) as r_squared\n",
    "    FROM\n",
    "        joined\n",
    "    GROUP BY\n",
    "        joined.primary_location_id\n",
    ")\n",
    "SELECT\n",
    "    metrics.primary_location_id\n",
    "    , kling_gupta_efficiency\n",
    "    , root_mean_squared_error\n",
    "    , relative_bias\n",
    "    , r_squared\n",
    "FROM metrics\n",
    "ORDER BY\n",
    "    metrics.primary_location_id\n",
    "LIMIT 20;\n",
    "\"\"\")\n",
    "sdf.show()"
   ]
  },
  {
   "cell_type": "code",
   "execution_count": 22,
   "id": "934183bc-3f9a-46bb-922c-34843e06f77a",
   "metadata": {},
   "outputs": [
    {
     "name": "stderr",
     "output_type": "stream",
     "text": [
      "24/05/28 01:24:57 WARN ExecutorPodsWatchSnapshotSource: Kubernetes client has been closed.\n"
     ]
    }
   ],
   "source": [
    "spark.stop()"
   ]
  },
  {
   "cell_type": "code",
   "execution_count": null,
   "id": "38a50f85-8a24-4df1-8a90-0a66329e2581",
   "metadata": {},
   "outputs": [],
   "source": []
  }
 ],
 "metadata": {
  "kernelspec": {
   "display_name": "Python 3 (ipykernel)",
   "language": "python",
   "name": "python3"
  },
  "language_info": {
   "codemirror_mode": {
    "name": "ipython",
    "version": 3
   },
   "file_extension": ".py",
   "mimetype": "text/x-python",
   "name": "python",
   "nbconvert_exporter": "python",
   "pygments_lexer": "ipython3",
   "version": "3.10.12"
  }
 },
 "nbformat": 4,
 "nbformat_minor": 5
}
