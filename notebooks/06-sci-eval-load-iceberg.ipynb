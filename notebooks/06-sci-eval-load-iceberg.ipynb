{
 "cells": [
  {
   "cell_type": "markdown",
   "id": "247fb2ab",
   "metadata": {},
   "source": [
    "### TEEHR with Spark and Iceberg"
   ]
  },
  {
   "cell_type": "code",
   "execution_count": 1,
   "id": "d21cdf61-0056-4208-baf6-8c223d6481a9",
   "metadata": {},
   "outputs": [],
   "source": [
    "import os\n",
    "import duckdb\n",
    "import numpy as np\n",
    "from pyspark.sql.functions import pandas_udf\n",
    "import pandas as pd\n",
    "from urllib.request import urlretrieve\n",
    "import gc"
   ]
  },
  {
   "cell_type": "code",
   "execution_count": 2,
   "id": "f2f16fa4-e55a-42d7-98f6-bc9457f6798c",
   "metadata": {},
   "outputs": [],
   "source": [
    "from pyspark.sql import SparkSession\n",
    "from pyspark import SparkConf"
   ]
  },
  {
   "cell_type": "code",
   "execution_count": 3,
   "id": "d4230e7f-7edd-4ce2-867a-5dd9e5033387",
   "metadata": {},
   "outputs": [],
   "source": [
    "config = {\n",
    "    \"spark.kubernetes.authenticate.driver.serviceAccountName\": \"jupyter\",\n",
    "    \"spark.kubernetes.namespace\": \"teehr-spark-default\",\n",
    "    \"spark.kubernetes.container.image\": os.environ[\"TEEHR_WORKER_IMAGE\"],\n",
    "    \"spark.executor.extraJavaOptions=-Daws.region\": \"us-east-1\",\n",
    "    \"spark.driver.extraJavaOptions=-Daws.region\": \"us-east-1\",\n",
    "    \"spark.executor.instances\": \"6\",\n",
    "    \"spark.executor.memory\": \"16g\",\n",
    "    \"spark.executor.cores\": \"2\",\n",
    "    \"spark.driver.blockManager.port\": \"7777\",\n",
    "    \"spark.driver.port\": \"2222\",\n",
    "    \"spark.driver.host\": \"jupyter.teehr-spark-default.svc.cluster.local\",\n",
    "    \"spark.driver.bindAddress\": \"0.0.0.0\",\n",
    "    \"spark.hadoop.fs.s3a.impl\": \"org.apache.hadoop.fs.s3a.S3AFileSystem\",\n",
    "    \"spark.hadoop.fs.s3a.aws.credentials.provider\": \"org.apache.hadoop.fs.s3a.AnonymousAWSCredentialsProvider\",\n",
    "    \"spark.sql.catalog.demo.s3.access-key-id\": \"minio\",\n",
    "    \"spark.sql.catalog.demo.s3.secret-access-key\": \"password123\",\n",
    "    \"spark.sql.parquet.enableVectorizedReader\": \"false\",\n",
    "    \"spark.kubernetes.executor.node.selector.dedicated\": \"worker\",\n",
    "    \"spark.kubernetes.executor.podTemplateFile\": \"/home/spark/pod-template.yaml\",\n",
    "}\n",
    "\n",
    "def get_spark_session(app_name: str, conf: SparkConf):\n",
    "    conf.setMaster(\"k8s://https://kubernetes.default.svc.cluster.local\")\n",
    "    for key, value in config.items():\n",
    "        conf.set(key, value)    \n",
    "    return SparkSession.builder.appName(app_name).config(conf=conf).getOrCreate()"
   ]
  },
  {
   "cell_type": "code",
   "execution_count": 4,
   "id": "2024b9a7-9dc9-40c0-ac17-e6bbfef05da3",
   "metadata": {},
   "outputs": [
    {
     "name": "stderr",
     "output_type": "stream",
     "text": [
      "24/05/19 17:13:13 WARN NativeCodeLoader: Unable to load native-hadoop library for your platform... using builtin-java classes where applicable\n",
      "Setting default log level to \"WARN\".\n",
      "To adjust logging level use sc.setLogLevel(newLevel). For SparkR, use setLogLevel(newLevel).\n",
      "24/05/19 17:13:13 WARN Utils: Service 'SparkUI' could not bind on port 4040. Attempting port 4041.\n"
     ]
    }
   ],
   "source": [
    "spark = get_spark_session(\"teehr-workers\", SparkConf())\n",
    "# spark.sparkContext.getConf().getAll()"
   ]
  },
  {
   "cell_type": "code",
   "execution_count": 5,
   "id": "595871f4-e141-4a54-85f4-35b684a7a148",
   "metadata": {},
   "outputs": [
    {
     "name": "stderr",
     "output_type": "stream",
     "text": [
      "24/05/19 17:16:36 WARN MetricsConfig: Cannot locate configuration: tried hadoop-metrics2-s3a-file-system.properties,hadoop-metrics2.properties\n",
      "                                                                                \r"
     ]
    }
   ],
   "source": [
    "obs = spark.read.parquet(\"s3a://ciroh-rti-public-data/teehr/protocols/science-eval/timeseries/usgs*.parquet\")"
   ]
  },
  {
   "cell_type": "code",
   "execution_count": 6,
   "id": "c34d7c01-2c1b-4486-b706-302c180020c7",
   "metadata": {},
   "outputs": [
    {
     "name": "stderr",
     "output_type": "stream",
     "text": [
      "                                                                                \r"
     ]
    },
    {
     "data": {
      "text/plain": [
       "176063841"
      ]
     },
     "execution_count": 6,
     "metadata": {},
     "output_type": "execute_result"
    }
   ],
   "source": [
    "obs.count()"
   ]
  },
  {
   "cell_type": "code",
   "execution_count": 8,
   "id": "7d117a70-6ab9-4b38-ab8f-15a25c0fca9d",
   "metadata": {},
   "outputs": [
    {
     "name": "stderr",
     "output_type": "stream",
     "text": [
      "                                                                                \r"
     ]
    }
   ],
   "source": [
    "obs.write.mode(\"append\").saveAsTable(\"science_eval.primary\")"
   ]
  },
  {
   "cell_type": "code",
   "execution_count": 9,
   "id": "f086741e-be89-402c-951e-3bf91923c50c",
   "metadata": {},
   "outputs": [
    {
     "name": "stdout",
     "output_type": "stream",
     "text": [
      "+---------+\n",
      "| count(1)|\n",
      "+---------+\n",
      "|176063841|\n",
      "+---------+\n",
      "\n"
     ]
    }
   ],
   "source": [
    "spark.sql(\"SELECT count(*) FROM science_eval.primary;\").show()"
   ]
  },
  {
   "cell_type": "code",
   "execution_count": 17,
   "id": "fb93232a-d927-4910-9676-e1625bf94046",
   "metadata": {},
   "outputs": [],
   "source": [
    "sim = spark.read.parquet(\"s3a://ciroh-rti-public-data/teehr/protocols/science-eval/timeseries/nwm2*.parquet\")"
   ]
  },
  {
   "cell_type": "code",
   "execution_count": 18,
   "id": "d2c94abd-f943-491f-9c54-873effb8edd6",
   "metadata": {},
   "outputs": [
    {
     "name": "stderr",
     "output_type": "stream",
     "text": [
      "                                                                                \r"
     ]
    },
    {
     "data": {
      "text/plain": [
       "399505152"
      ]
     },
     "execution_count": 18,
     "metadata": {},
     "output_type": "execute_result"
    }
   ],
   "source": [
    "sim.count()"
   ]
  },
  {
   "cell_type": "code",
   "execution_count": 19,
   "id": "50e5f864-91f1-41b3-9657-2c595b4d08a3",
   "metadata": {},
   "outputs": [
    {
     "name": "stderr",
     "output_type": "stream",
     "text": [
      "                                                                                \r"
     ]
    }
   ],
   "source": [
    "sim.write.mode(\"append\").saveAsTable(\"science_eval.secondary\")"
   ]
  },
  {
   "cell_type": "code",
   "execution_count": 20,
   "id": "2b042a90-3efc-45a9-b0c6-03dd5aff940e",
   "metadata": {},
   "outputs": [
    {
     "name": "stdout",
     "output_type": "stream",
     "text": [
      "+---------+\n",
      "| count(1)|\n",
      "+---------+\n",
      "|399505152|\n",
      "+---------+\n",
      "\n"
     ]
    }
   ],
   "source": [
    "spark.sql(\"SELECT count(*) FROM science_eval.secondary;\").show()"
   ]
  },
  {
   "cell_type": "code",
   "execution_count": 21,
   "id": "b9291c97-8c9e-4c69-8253-46dccbe91a3c",
   "metadata": {},
   "outputs": [],
   "source": [
    "xw = spark.read.parquet(\"s3a://ciroh-rti-public-data/teehr/common/geo/usgs_nwm2*_crosswalk.conus.parquet\")"
   ]
  },
  {
   "cell_type": "code",
   "execution_count": 22,
   "id": "803d4909-d077-4a27-9f8a-78e830f6f87e",
   "metadata": {},
   "outputs": [
    {
     "data": {
      "text/plain": [
       "22835"
      ]
     },
     "execution_count": 22,
     "metadata": {},
     "output_type": "execute_result"
    }
   ],
   "source": [
    "xw.count()"
   ]
  },
  {
   "cell_type": "code",
   "execution_count": 24,
   "id": "2c11e283-1c48-47d1-8880-4d66afc63b8c",
   "metadata": {},
   "outputs": [],
   "source": [
    "xw.drop(\"feature_id\").write.mode(\"append\").saveAsTable(\"science_eval.crosswalk\")"
   ]
  },
  {
   "cell_type": "code",
   "execution_count": 25,
   "id": "8c20052d-c35e-46f3-8ce8-47da1c9f7afa",
   "metadata": {},
   "outputs": [
    {
     "name": "stdout",
     "output_type": "stream",
     "text": [
      "+--------+\n",
      "|count(1)|\n",
      "+--------+\n",
      "|   22835|\n",
      "+--------+\n",
      "\n"
     ]
    }
   ],
   "source": [
    "spark.sql(\"SELECT count(*) FROM science_eval.crosswalk;\").show()"
   ]
  },
  {
   "cell_type": "code",
   "execution_count": 26,
   "id": "bc258d02-f244-4412-9354-c701a8a3e512",
   "metadata": {},
   "outputs": [],
   "source": [
    "# Join from Iceberg\n",
    "sdf = spark.sql(\"\"\"\n",
    "SELECT\n",
    "        sf.reference_time\n",
    "        , sf.configuration\n",
    "        , sf.measurement_unit\n",
    "        , sf.variable_name\n",
    "        , sf.value_time as value_time\n",
    "        , sf.location_id as secondary_location_id\n",
    "        , sf.value as secondary_value\n",
    "        , pf.location_id as primary_location_id\n",
    "        , pf.value as primary_value\n",
    "    FROM science_eval.secondary sf\n",
    "    JOIN science_eval.crosswalk cf\n",
    "        on cf.secondary_location_id = sf.location_id\n",
    "    JOIN science_eval.primary pf\n",
    "        on cf.primary_location_id = pf.location_id\n",
    "        and sf.value_time = pf.value_time\n",
    "        and sf.measurement_unit = pf.measurement_unit\n",
    "        and sf.variable_name = pf.variable_name\n",
    "\"\"\")"
   ]
  },
  {
   "cell_type": "code",
   "execution_count": 27,
   "id": "be3767ff-6a42-4dab-96d8-088d27ddc22f",
   "metadata": {},
   "outputs": [
    {
     "name": "stderr",
     "output_type": "stream",
     "text": [
      "[Stage 39:=====================================================> (98 + 2) / 100]\r"
     ]
    },
    {
     "name": "stdout",
     "output_type": "stream",
     "text": [
      "CPU times: user 125 ms, sys: 11.6 ms, total: 137 ms\n",
      "Wall time: 1min 32s\n"
     ]
    },
    {
     "name": "stderr",
     "output_type": "stream",
     "text": [
      "                                                                                \r"
     ]
    },
    {
     "data": {
      "text/plain": [
       "351877563"
      ]
     },
     "execution_count": 27,
     "metadata": {},
     "output_type": "execute_result"
    }
   ],
   "source": [
    "%%time\n",
    "sdf.count()"
   ]
  },
  {
   "cell_type": "code",
   "execution_count": 28,
   "id": "ac215181-0da2-467c-96d9-8b41076286ca",
   "metadata": {},
   "outputs": [
    {
     "name": "stderr",
     "output_type": "stream",
     "text": [
      "[Stage 49:=====================================================>(199 + 1) / 200]\r"
     ]
    },
    {
     "name": "stdout",
     "output_type": "stream",
     "text": [
      "CPU times: user 195 ms, sys: 35.1 ms, total: 230 ms\n",
      "Wall time: 2min 54s\n"
     ]
    },
    {
     "name": "stderr",
     "output_type": "stream",
     "text": [
      "                                                                                \r"
     ]
    }
   ],
   "source": [
    "%%time\n",
    "sdf.write.mode(\"append\").saveAsTable(\"science_eval.joined\")"
   ]
  },
  {
   "cell_type": "code",
   "execution_count": 29,
   "id": "0be19374-b839-4349-ae71-4ae2d4fbfca9",
   "metadata": {},
   "outputs": [
    {
     "name": "stdout",
     "output_type": "stream",
     "text": [
      "+---------+\n",
      "| count(1)|\n",
      "+---------+\n",
      "|351877563|\n",
      "+---------+\n",
      "\n"
     ]
    }
   ],
   "source": [
    "spark.sql(\"SELECT count(*) FROM science_eval.joined;\").show()"
   ]
  },
  {
   "cell_type": "code",
   "execution_count": 30,
   "id": "934183bc-3f9a-46bb-922c-34843e06f77a",
   "metadata": {},
   "outputs": [
    {
     "name": "stderr",
     "output_type": "stream",
     "text": [
      "24/05/19 17:41:37 WARN ExecutorPodsWatchSnapshotSource: Kubernetes client has been closed.\n"
     ]
    }
   ],
   "source": [
    "spark.stop()"
   ]
  },
  {
   "cell_type": "code",
   "execution_count": null,
   "id": "fd9f0849-de92-4935-8e36-e0c07a7abec3",
   "metadata": {},
   "outputs": [],
   "source": []
  }
 ],
 "metadata": {
  "kernelspec": {
   "display_name": "Python 3 (ipykernel)",
   "language": "python",
   "name": "python3"
  },
  "language_info": {
   "codemirror_mode": {
    "name": "ipython",
    "version": 3
   },
   "file_extension": ".py",
   "mimetype": "text/x-python",
   "name": "python",
   "nbconvert_exporter": "python",
   "pygments_lexer": "ipython3",
   "version": "3.10.12"
  }
 },
 "nbformat": 4,
 "nbformat_minor": 5
}
