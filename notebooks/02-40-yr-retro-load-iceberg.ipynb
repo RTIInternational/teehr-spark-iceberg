{
 "cells": [
  {
   "cell_type": "markdown",
   "id": "247fb2ab",
   "metadata": {},
   "source": [
    "### TEEHR with Spark and Iceberg"
   ]
  },
  {
   "cell_type": "code",
   "execution_count": null,
   "id": "d21cdf61-0056-4208-baf6-8c223d6481a9",
   "metadata": {},
   "outputs": [],
   "source": [
    "import os\n",
    "import duckdb\n",
    "import numpy as np\n",
    "from pyspark.sql.functions import pandas_udf\n",
    "import pandas as pd\n",
    "from urllib.request import urlretrieve\n",
    "import gc"
   ]
  },
  {
   "cell_type": "code",
   "execution_count": null,
   "id": "f2f16fa4-e55a-42d7-98f6-bc9457f6798c",
   "metadata": {},
   "outputs": [],
   "source": [
    "from pyspark.sql import SparkSession\n",
    "from pyspark import SparkConf"
   ]
  },
  {
   "cell_type": "code",
   "execution_count": null,
   "id": "d4230e7f-7edd-4ce2-867a-5dd9e5033387",
   "metadata": {},
   "outputs": [],
   "source": [
    "config = {\n",
    "    \"spark.kubernetes.authenticate.driver.serviceAccountName\": \"jupyter\",\n",
    "    \"spark.kubernetes.namespace\": \"teehr-spark-default\",\n",
    "    \"spark.kubernetes.container.image\": os.environ[\"TEEHR_WORKER_IMAGE\"],\n",
    "    \"spark.executor.extraJavaOptions=-Daws.region\": \"us-east-1\",\n",
    "    \"spark.driver.extraJavaOptions=-Daws.region\": \"us-east-1\",\n",
    "    \"spark.executor.instances\": \"6\",\n",
    "    \"spark.executor.memory\": \"16g\",\n",
    "    \"spark.executor.cores\": \"2\",\n",
    "    \"spark.driver.blockManager.port\": \"7777\",\n",
    "    \"spark.driver.port\": \"2222\",\n",
    "    \"spark.driver.host\": \"jupyter.teehr-spark-default.svc.cluster.local\",\n",
    "    \"spark.driver.bindAddress\": \"0.0.0.0\",\n",
    "    \"spark.hadoop.fs.s3a.impl\": \"org.apache.hadoop.fs.s3a.S3AFileSystem\",\n",
    "    \"spark.hadoop.fs.s3a.aws.credentials.provider\": \"org.apache.hadoop.fs.s3a.AnonymousAWSCredentialsProvider\",\n",
    "    \"spark.sql.catalog.demo.s3.access-key-id\": \"minio\",\n",
    "    \"spark.sql.catalog.demo.s3.secret-access-key\": \"password123\",\n",
    "    \"spark.sql.parquet.enableVectorizedReader\": \"false\",\n",
    "    \"spark.kubernetes.executor.node.selector.dedicated\": \"worker\",\n",
    "    \"spark.kubernetes.executor.podTemplateFile\": \"/home/spark/pod-template.yaml\",\n",
    "}\n",
    "\n",
    "def get_spark_session(app_name: str, conf: SparkConf):\n",
    "    conf.setMaster(\"k8s://https://kubernetes.default.svc.cluster.local\")\n",
    "    for key, value in config.items():\n",
    "        conf.set(key, value)    \n",
    "    return SparkSession.builder.appName(app_name).config(conf=conf).getOrCreate()"
   ]
  },
  {
   "cell_type": "code",
   "execution_count": null,
   "id": "4aebae7c-bfdd-4074-b688-e3e5abbbd6b7",
   "metadata": {},
   "outputs": [],
   "source": [
    "spark = get_spark_session(\"teehr-workers\", SparkConf())\n",
    "# spark.sparkContext.getConf().getAll()"
   ]
  },
  {
   "cell_type": "code",
   "execution_count": null,
   "id": "595871f4-e141-4a54-85f4-35b684a7a148",
   "metadata": {},
   "outputs": [],
   "source": [
    "obs = spark.read.parquet(\"s3a://ciroh-rti-public-data/teehr-data-warehouse/common/observations/usgs_streamflow/*.parquet\")"
   ]
  },
  {
   "cell_type": "code",
   "execution_count": null,
   "id": "c34d7c01-2c1b-4486-b706-302c180020c7",
   "metadata": {},
   "outputs": [],
   "source": [
    "obs.count()"
   ]
  },
  {
   "cell_type": "code",
   "execution_count": null,
   "id": "7d117a70-6ab9-4b38-ab8f-15a25c0fca9d",
   "metadata": {},
   "outputs": [],
   "source": [
    "obs.drop(\"__index_level_0__\").write.mode(\"append\").saveAsTable(\"proto.obs\")"
   ]
  },
  {
   "cell_type": "code",
   "execution_count": null,
   "id": "f086741e-be89-402c-951e-3bf91923c50c",
   "metadata": {},
   "outputs": [],
   "source": [
    "spark.sql(\"SELECT count(*) FROM proto.obs;\").show()"
   ]
  },
  {
   "cell_type": "code",
   "execution_count": null,
   "id": "fb93232a-d927-4910-9676-e1625bf94046",
   "metadata": {},
   "outputs": [],
   "source": [
    "sim = spark.read.parquet(\"s3a://ciroh-rti-public-data/teehr-data-warehouse/common/baselines/nwm30_retrospective_conus/*.parquet\")"
   ]
  },
  {
   "cell_type": "code",
   "execution_count": null,
   "id": "d2c94abd-f943-491f-9c54-873effb8edd6",
   "metadata": {},
   "outputs": [],
   "source": [
    "sim.count()"
   ]
  },
  {
   "cell_type": "code",
   "execution_count": null,
   "id": "50e5f864-91f1-41b3-9657-2c595b4d08a3",
   "metadata": {},
   "outputs": [],
   "source": [
    "sim.write.mode(\"append\").saveAsTable(\"proto.sim\").show()"
   ]
  },
  {
   "cell_type": "code",
   "execution_count": null,
   "id": "2b042a90-3efc-45a9-b0c6-03dd5aff940e",
   "metadata": {},
   "outputs": [],
   "source": [
    "spark.sql(\"SELECT count(*) FROM proto.sim;\").show()"
   ]
  },
  {
   "cell_type": "code",
   "execution_count": null,
   "id": "b9291c97-8c9e-4c69-8253-46dccbe91a3c",
   "metadata": {},
   "outputs": [],
   "source": [
    "xw = spark.read.parquet(\"s3a://ciroh-rti-public-data/teehr-data-warehouse/common/crosswalks/usgs_nwm30_crosswalk.conus.parquet\")"
   ]
  },
  {
   "cell_type": "code",
   "execution_count": null,
   "id": "803d4909-d077-4a27-9f8a-78e830f6f87e",
   "metadata": {},
   "outputs": [],
   "source": [
    "xw.count()"
   ]
  },
  {
   "cell_type": "code",
   "execution_count": null,
   "id": "2c11e283-1c48-47d1-8880-4d66afc63b8c",
   "metadata": {},
   "outputs": [],
   "source": [
    "xw.write.mode(\"append\").saveAsTable(\"proto.xw\")"
   ]
  },
  {
   "cell_type": "code",
   "execution_count": null,
   "id": "8c20052d-c35e-46f3-8ce8-47da1c9f7afa",
   "metadata": {},
   "outputs": [],
   "source": [
    "spark.sql(\"SELECT count(*) FROM proto.xw;\").show()"
   ]
  },
  {
   "cell_type": "code",
   "execution_count": null,
   "id": "bc258d02-f244-4412-9354-c701a8a3e512",
   "metadata": {},
   "outputs": [],
   "source": [
    "# Join from Iceberg\n",
    "sdf = spark.sql(\"\"\"\n",
    "SELECT\n",
    "        sf.reference_time\n",
    "        , sf.configuration\n",
    "        , sf.measurement_unit\n",
    "        , sf.variable_name\n",
    "        , sf.value_time as value_time\n",
    "        , sf.location_id as secondary_location_id\n",
    "        , sf.value as secondary_value\n",
    "        , pf.location_id as primary_location_id\n",
    "        , pf.value as primary_value\n",
    "    FROM proto.sim sf\n",
    "    JOIN proto.xw cf\n",
    "        on cf.secondary_location_id = sf.location_id\n",
    "    JOIN proto.obs pf\n",
    "        on cf.primary_location_id = pf.location_id\n",
    "        and sf.value_time = pf.value_time\n",
    "        and sf.measurement_unit = pf.measurement_unit\n",
    "        and sf.variable_name = pf.variable_name\n",
    "\"\"\")"
   ]
  },
  {
   "cell_type": "code",
   "execution_count": null,
   "id": "be3767ff-6a42-4dab-96d8-088d27ddc22f",
   "metadata": {},
   "outputs": [],
   "source": [
    "%%time\n",
    "sdf.count()"
   ]
  },
  {
   "cell_type": "code",
   "execution_count": null,
   "id": "ac215181-0da2-467c-96d9-8b41076286ca",
   "metadata": {},
   "outputs": [],
   "source": [
    "%%time\n",
    "sdf.write.mode(\"append\").saveAsTable(\"proto.joined\")"
   ]
  },
  {
   "cell_type": "code",
   "execution_count": null,
   "id": "0be19374-b839-4349-ae71-4ae2d4fbfca9",
   "metadata": {},
   "outputs": [],
   "source": [
    "spark.sql(\"SELECT count(*) FROM proto.joined;\").show()"
   ]
  },
  {
   "cell_type": "code",
   "execution_count": null,
   "id": "934183bc-3f9a-46bb-922c-34843e06f77a",
   "metadata": {},
   "outputs": [],
   "source": [
    "spark.stop()"
   ]
  }
 ],
 "metadata": {
  "kernelspec": {
   "display_name": "Python 3 (ipykernel)",
   "language": "python",
   "name": "python3"
  },
  "language_info": {
   "codemirror_mode": {
    "name": "ipython",
    "version": 3
   },
   "file_extension": ".py",
   "mimetype": "text/x-python",
   "name": "python",
   "nbconvert_exporter": "python",
   "pygments_lexer": "ipython3",
   "version": "3.10.12"
  }
 },
 "nbformat": 4,
 "nbformat_minor": 5
}
