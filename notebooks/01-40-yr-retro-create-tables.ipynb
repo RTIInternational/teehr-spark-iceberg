{
 "cells": [
  {
   "cell_type": "markdown",
   "id": "247fb2ab",
   "metadata": {},
   "source": [
    "### [Docker, Spark, and Iceberg: The Fastest Way to Try Iceberg!](https://tabular.io/blog/docker-spark-and-iceberg/)"
   ]
  },
  {
   "cell_type": "code",
   "execution_count": 1,
   "id": "d21cdf61-0056-4208-baf6-8c223d6481a9",
   "metadata": {},
   "outputs": [],
   "source": [
    "import os\n",
    "import duckdb\n",
    "import numpy as np\n",
    "from pyspark.sql.functions import pandas_udf\n",
    "import pandas as pd\n",
    "from urllib.request import urlretrieve\n",
    "import gc"
   ]
  },
  {
   "cell_type": "code",
   "execution_count": 2,
   "id": "f2f16fa4-e55a-42d7-98f6-bc9457f6798c",
   "metadata": {},
   "outputs": [],
   "source": [
    "from pyspark.sql import SparkSession\n",
    "from pyspark import SparkConf"
   ]
  },
  {
   "cell_type": "code",
   "execution_count": 3,
   "id": "d4230e7f-7edd-4ce2-867a-5dd9e5033387",
   "metadata": {},
   "outputs": [
    {
     "name": "stderr",
     "output_type": "stream",
     "text": [
      "Setting default log level to \"WARN\".\n",
      "To adjust logging level use sc.setLogLevel(newLevel). For SparkR, use setLogLevel(newLevel).\n",
      "24/05/19 21:43:49 WARN NativeCodeLoader: Unable to load native-hadoop library for your platform... using builtin-java classes where applicable\n",
      "24/05/19 21:43:50 WARN Utils: Service 'SparkUI' could not bind on port 4040. Attempting port 4041.\n",
      "24/05/19 21:43:51 WARN Utils: Service 'SparkUI' could not bind on port 4040. Attempting port 4041.\n"
     ]
    }
   ],
   "source": [
    "SparkSession.builder.master(\"local[*]\").getOrCreate().stop()\n",
    "\n",
    "conf = (\n",
    "    SparkConf()\n",
    "    .setAppName('TestJupyter')\n",
    "    .set(\"spark.sql.catalog.demo.s3.access-key-id\", \"minio\")\n",
    "    .set(\"spark.sql.catalog.demo.s3.secret-access-key\", \"password123\")\n",
    ")\n",
    "## Start Spark Session\n",
    "spark = SparkSession.builder.config(conf=conf).getOrCreate()\n",
    "# spark.sparkContext.getConf().getAll()"
   ]
  },
  {
   "cell_type": "code",
   "execution_count": 4,
   "id": "5b38ba05-e321-4420-b1c0-3444f19a74ad",
   "metadata": {},
   "outputs": [],
   "source": [
    "DATABASE = \"streamflow\"\n",
    "PRIMARY_TABLE = \"primary\"\n",
    "SECONDARY_TABLE = \"secondary\"\n",
    "CROSSWALK_TABLE = \"crosswalk\"\n",
    "JOINED_TABLE = \"joined\""
   ]
  },
  {
   "cell_type": "code",
   "execution_count": 5,
   "id": "84fd09a4",
   "metadata": {},
   "outputs": [
    {
     "data": {
      "text/plain": [
       "DataFrame[]"
      ]
     },
     "execution_count": 5,
     "metadata": {},
     "output_type": "execute_result"
    }
   ],
   "source": [
    "spark.sql(f\"CREATE DATABASE IF NOT EXISTS {DATABASE};\")"
   ]
  },
  {
   "cell_type": "code",
   "execution_count": 6,
   "id": "07bf9dc2",
   "metadata": {},
   "outputs": [
    {
     "data": {
      "text/plain": [
       "DataFrame[]"
      ]
     },
     "execution_count": 6,
     "metadata": {},
     "output_type": "execute_result"
    }
   ],
   "source": [
    "spark.sql(f\"\"\"\n",
    "DROP TABLE IF EXISTS {DATABASE}.{PRIMARY_TABLE};\n",
    "\"\"\")"
   ]
  },
  {
   "cell_type": "code",
   "execution_count": 7,
   "id": "cfc6d523-53ae-4066-b429-1576d6ab70ea",
   "metadata": {},
   "outputs": [
    {
     "data": {
      "text/plain": [
       "DataFrame[]"
      ]
     },
     "execution_count": 7,
     "metadata": {},
     "output_type": "execute_result"
    }
   ],
   "source": [
    "spark.sql(f\"\"\"\n",
    "DROP TABLE IF EXISTS {DATABASE}.{SECONDARY_TABLE};\n",
    "\"\"\")"
   ]
  },
  {
   "cell_type": "code",
   "execution_count": 8,
   "id": "4f6ea911-c966-4b94-b413-72d96a35a8fe",
   "metadata": {},
   "outputs": [
    {
     "data": {
      "text/plain": [
       "DataFrame[]"
      ]
     },
     "execution_count": 8,
     "metadata": {},
     "output_type": "execute_result"
    }
   ],
   "source": [
    "spark.sql(f\"\"\"\n",
    "DROP TABLE IF EXISTS {DATABASE}.{CROSSWALK_TABLE};\n",
    "\"\"\")"
   ]
  },
  {
   "cell_type": "code",
   "execution_count": 9,
   "id": "466e8949-eb8f-465f-b9ad-d8de4699445a",
   "metadata": {},
   "outputs": [
    {
     "data": {
      "text/plain": [
       "DataFrame[]"
      ]
     },
     "execution_count": 9,
     "metadata": {},
     "output_type": "execute_result"
    }
   ],
   "source": [
    "spark.sql(f\"\"\"\n",
    "DROP TABLE IF EXISTS {DATABASE}.{JOINED_TABLE};\n",
    "\"\"\")"
   ]
  },
  {
   "cell_type": "code",
   "execution_count": 10,
   "id": "363f815a",
   "metadata": {},
   "outputs": [
    {
     "data": {
      "text/plain": [
       "DataFrame[]"
      ]
     },
     "execution_count": 10,
     "metadata": {},
     "output_type": "execute_result"
    }
   ],
   "source": [
    "spark.sql(f\"\"\"\n",
    "CREATE TABLE IF NOT EXISTS {DATABASE}.{PRIMARY_TABLE} (\n",
    "    reference_time        timestamp,\n",
    "    value_time            timestamp,\n",
    "    value                 double,\n",
    "    measurement_unit      string,\n",
    "    variable_name         string,\n",
    "    configuration         string,\n",
    "    location_id           string\n",
    ")\n",
    "USING iceberg\n",
    "PARTITIONED BY (configuration, variable_name);\n",
    "\"\"\")"
   ]
  },
  {
   "cell_type": "code",
   "execution_count": 11,
   "id": "ae2bd9de-b56e-4cad-a3a8-642007713366",
   "metadata": {},
   "outputs": [
    {
     "data": {
      "text/plain": [
       "DataFrame[]"
      ]
     },
     "execution_count": 11,
     "metadata": {},
     "output_type": "execute_result"
    }
   ],
   "source": [
    "spark.sql(f\"\"\"\n",
    "CREATE TABLE IF NOT EXISTS {DATABASE}.{SECONDARY_TABLE} (\n",
    "    reference_time        timestamp,\n",
    "    value_time            timestamp,\n",
    "    value                 double,\n",
    "    measurement_unit      string,\n",
    "    variable_name         string,\n",
    "    configuration         string,\n",
    "    location_id           string\n",
    ")\n",
    "USING iceberg\n",
    "PARTITIONED BY (configuration, variable_name);\n",
    "\"\"\")"
   ]
  },
  {
   "cell_type": "code",
   "execution_count": 12,
   "id": "f2d2d3bf-2ba8-477c-92ee-31f58c32e6ae",
   "metadata": {},
   "outputs": [
    {
     "data": {
      "text/plain": [
       "DataFrame[]"
      ]
     },
     "execution_count": 12,
     "metadata": {},
     "output_type": "execute_result"
    }
   ],
   "source": [
    "spark.sql(f\"\"\"\n",
    "CREATE TABLE IF NOT EXISTS {DATABASE}.{CROSSWALK_TABLE} (\n",
    "    primary_location_id string,\n",
    "    secondary_location_id string\n",
    ")\n",
    "USING iceberg;\n",
    "\"\"\")"
   ]
  },
  {
   "cell_type": "code",
   "execution_count": 13,
   "id": "cc76e66b-2c0e-4b38-9a99-791bbd6b35b7",
   "metadata": {},
   "outputs": [
    {
     "data": {
      "text/plain": [
       "DataFrame[]"
      ]
     },
     "execution_count": 13,
     "metadata": {},
     "output_type": "execute_result"
    }
   ],
   "source": [
    "spark.sql(f\"\"\"\n",
    "CREATE TABLE IF NOT EXISTS {DATABASE}.{JOINED_TABLE} (\n",
    "    reference_time        timestamp,\n",
    "    value_time            timestamp,\n",
    "    measurement_unit      string,\n",
    "    variable_name         string,\n",
    "    configuration         string,\n",
    "    primary_value                      double,\n",
    "    primary_location_id                string,\n",
    "    secondary_value                    double,\n",
    "    secondary_location_id              string\n",
    ")\n",
    "USING iceberg\n",
    "PARTITIONED BY (configuration, variable_name);\n",
    "\"\"\")"
   ]
  },
  {
   "cell_type": "code",
   "execution_count": 14,
   "id": "47645b52",
   "metadata": {},
   "outputs": [
    {
     "data": {
      "text/plain": [
       "DataFrame[]"
      ]
     },
     "execution_count": 14,
     "metadata": {},
     "output_type": "execute_result"
    }
   ],
   "source": [
    "spark.sql(f\"\"\"\n",
    "TRUNCATE TABLE {DATABASE}.{PRIMARY_TABLE};\n",
    "\"\"\")"
   ]
  },
  {
   "cell_type": "code",
   "execution_count": 15,
   "id": "04e75666-94da-431b-9ab5-c5e1d0ae3224",
   "metadata": {},
   "outputs": [
    {
     "data": {
      "text/plain": [
       "DataFrame[]"
      ]
     },
     "execution_count": 15,
     "metadata": {},
     "output_type": "execute_result"
    }
   ],
   "source": [
    "spark.sql(f\"\"\"\n",
    "TRUNCATE TABLE {DATABASE}.{SECONDARY_TABLE};\n",
    "\"\"\")"
   ]
  },
  {
   "cell_type": "code",
   "execution_count": 16,
   "id": "74055aee-f04a-48e8-ac08-e77f74820383",
   "metadata": {},
   "outputs": [
    {
     "data": {
      "text/plain": [
       "DataFrame[]"
      ]
     },
     "execution_count": 16,
     "metadata": {},
     "output_type": "execute_result"
    }
   ],
   "source": [
    "spark.sql(f\"\"\"\n",
    "TRUNCATE TABLE {DATABASE}.{CROSSWALK_TABLE};\n",
    "\"\"\")"
   ]
  },
  {
   "cell_type": "code",
   "execution_count": 18,
   "id": "8d964fdc-fb56-4747-9e93-3f4e2d89eb1a",
   "metadata": {},
   "outputs": [
    {
     "data": {
      "text/plain": [
       "DataFrame[]"
      ]
     },
     "execution_count": 18,
     "metadata": {},
     "output_type": "execute_result"
    }
   ],
   "source": [
    "spark.sql(f\"\"\"\n",
    "TRUNCATE TABLE {DATABASE}.{JOINED_TABLE};\n",
    "\"\"\")"
   ]
  },
  {
   "cell_type": "code",
   "execution_count": null,
   "id": "258a433f-4bd5-4b1c-8792-33df2157a92b",
   "metadata": {},
   "outputs": [],
   "source": []
  }
 ],
 "metadata": {
  "kernelspec": {
   "display_name": "Python 3 (ipykernel)",
   "language": "python",
   "name": "python3"
  },
  "language_info": {
   "codemirror_mode": {
    "name": "ipython",
    "version": 3
   },
   "file_extension": ".py",
   "mimetype": "text/x-python",
   "name": "python",
   "nbconvert_exporter": "python",
   "pygments_lexer": "ipython3",
   "version": "3.10.12"
  }
 },
 "nbformat": 4,
 "nbformat_minor": 5
}
