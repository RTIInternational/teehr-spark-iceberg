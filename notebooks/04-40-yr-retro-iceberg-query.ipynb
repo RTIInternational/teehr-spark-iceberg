{
 "cells": [
  {
   "cell_type": "markdown",
   "id": "247fb2ab",
   "metadata": {},
   "source": [
    "### TEEHR with Spark and Iceberg"
   ]
  },
  {
   "cell_type": "code",
   "execution_count": 1,
   "id": "d21cdf61-0056-4208-baf6-8c223d6481a9",
   "metadata": {},
   "outputs": [],
   "source": [
    "import os\n",
    "import duckdb\n",
    "import numpy as np\n",
    "from pyspark.sql.functions import pandas_udf\n",
    "import pandas as pd\n",
    "from urllib.request import urlretrieve\n",
    "import gc"
   ]
  },
  {
   "cell_type": "code",
   "execution_count": 2,
   "id": "f2f16fa4-e55a-42d7-98f6-bc9457f6798c",
   "metadata": {},
   "outputs": [],
   "source": [
    "from pyspark.sql import SparkSession\n",
    "from pyspark import SparkConf"
   ]
  },
  {
   "cell_type": "code",
   "execution_count": 3,
   "id": "d4230e7f-7edd-4ce2-867a-5dd9e5033387",
   "metadata": {},
   "outputs": [],
   "source": [
    "config = {\n",
    "    \"spark.kubernetes.authenticate.driver.serviceAccountName\": \"jupyter\",\n",
    "    \"spark.kubernetes.namespace\": \"teehr-spark-default\",\n",
    "    \"spark.kubernetes.container.image\": os.environ[\"TEEHR_WORKER_IMAGE\"],\n",
    "    \"spark.executor.extraJavaOptions=-Daws.region\": \"us-east-1\",\n",
    "    \"spark.driver.extraJavaOptions=-Daws.region\": \"us-east-1\",\n",
    "    \"spark.executor.instances\": \"6\",\n",
    "    \"spark.executor.memory\": \"16g\",\n",
    "    \"spark.executor.cores\": \"2\",\n",
    "    \"spark.driver.blockManager.port\": \"7777\",\n",
    "    \"spark.driver.port\": \"2222\",\n",
    "    \"spark.driver.host\": \"jupyter.teehr-spark-default.svc.cluster.local\",\n",
    "    \"spark.driver.bindAddress\": \"0.0.0.0\",\n",
    "    \"spark.hadoop.fs.s3a.impl\": \"org.apache.hadoop.fs.s3a.S3AFileSystem\",\n",
    "    \"spark.hadoop.fs.s3a.aws.credentials.provider\": \"org.apache.hadoop.fs.s3a.AnonymousAWSCredentialsProvider\",\n",
    "    \"spark.sql.catalog.demo.s3.access-key-id\": \"minio\",\n",
    "    \"spark.sql.catalog.demo.s3.secret-access-key\": \"password123\",\n",
    "    \"spark.sql.parquet.enableVectorizedReader\": \"false\",\n",
    "    \"spark.kubernetes.executor.node.selector.dedicated\": \"worker\",\n",
    "    \"spark.kubernetes.executor.podTemplateFile\": \"/home/spark/pod-template.yaml\",\n",
    "}\n",
    "\n",
    "def get_spark_session(app_name: str, conf: SparkConf):\n",
    "    conf.setMaster(\"k8s://https://kubernetes.default.svc.cluster.local\")\n",
    "    for key, value in config.items():\n",
    "        conf.set(key, value)    \n",
    "    return SparkSession.builder.appName(app_name).config(conf=conf).getOrCreate()"
   ]
  },
  {
   "cell_type": "code",
   "execution_count": 4,
   "id": "4aebae7c-bfdd-4074-b688-e3e5abbbd6b7",
   "metadata": {},
   "outputs": [
    {
     "name": "stderr",
     "output_type": "stream",
     "text": [
      "24/05/13 15:50:07 WARN NativeCodeLoader: Unable to load native-hadoop library for your platform... using builtin-java classes where applicable\n",
      "Setting default log level to \"WARN\".\n",
      "To adjust logging level use sc.setLogLevel(newLevel). For SparkR, use setLogLevel(newLevel).\n"
     ]
    }
   ],
   "source": [
    "spark = get_spark_session(\"teehr-workers\", SparkConf())\n",
    "# spark.sparkContext.getConf().getAll()"
   ]
  },
  {
   "cell_type": "code",
   "execution_count": 10,
   "id": "e11961f6-79fc-4e24-bdeb-0d6c6163144a",
   "metadata": {},
   "outputs": [
    {
     "name": "stderr",
     "output_type": "stream",
     "text": [
      "[Stage 12:================================================>       (32 + 5) / 37]\r"
     ]
    },
    {
     "name": "stdout",
     "output_type": "stream",
     "text": [
      "+-------------------+------------------+\n",
      "|         value_time|             value|\n",
      "+-------------------+------------------+\n",
      "|2007-04-28 04:00:00| 4.049308776855469|\n",
      "|2007-04-28 05:00:00| 3.992675304412842|\n",
      "|2007-04-28 06:00:00|3.9077248573303223|\n",
      "|2007-04-28 07:00:00|3.8794078826904297|\n",
      "|2007-04-28 08:00:00|  3.79445743560791|\n",
      "|2007-04-28 09:00:00| 3.737823724746704|\n",
      "|2007-04-28 10:00:00| 3.681190013885498|\n",
      "|2007-04-28 11:00:00|3.5962395668029785|\n",
      "|2007-04-28 12:00:00|3.5396058559417725|\n",
      "|2007-04-28 13:00:00|3.4829721450805664|\n",
      "|2007-04-28 14:00:00|3.3980214595794678|\n",
      "|2007-04-28 15:00:00|3.3130710124969482|\n",
      "|2007-04-28 16:00:00|3.2281205654144287|\n",
      "|2007-04-28 17:00:00|3.2281205654144287|\n",
      "|2007-04-28 18:00:00| 3.199803590774536|\n",
      "|2007-04-28 19:00:00|3.1148531436920166|\n",
      "|2007-04-28 20:00:00|3.1714868545532227|\n",
      "|2007-04-28 21:00:00|3.0582194328308105|\n",
      "|2007-04-28 22:00:00|3.0015857219696045|\n",
      "|2007-04-28 23:00:00| 2.973268747329712|\n",
      "+-------------------+------------------+\n",
      "only showing top 20 rows\n",
      "\n",
      "CPU times: user 6.85 ms, sys: 0 ns, total: 6.85 ms\n",
      "Wall time: 2.71 s\n"
     ]
    },
    {
     "name": "stderr",
     "output_type": "stream",
     "text": [
      "                                                                                \r"
     ]
    }
   ],
   "source": [
    "%%time\n",
    "spark.sql(\"SELECT value_time, value FROM proto.obs WHERE location_id = 'usgs-01116905' ORDER BY value_time;\").show()"
   ]
  },
  {
   "cell_type": "code",
   "execution_count": 11,
   "id": "f6d1ab13-1e18-4f68-9705-6f221175071a",
   "metadata": {},
   "outputs": [
    {
     "data": {
      "text/plain": [
       "<pyspark.sql.udf.UserDefinedFunction at 0x7f75ba99bc70>"
      ]
     },
     "execution_count": 11,
     "metadata": {},
     "output_type": "execute_result"
    }
   ],
   "source": [
    "from pandas_udfs import * \n",
    "spark.udf.register(\"teehr_kling_gupta_efficiency\", teehr_kling_gupta_efficiency)\n",
    "spark.udf.register(\"teehr_root_mean_squared_error\", teehr_root_mean_squared_error)\n",
    "spark.udf.register(\"teehr_relative_bias\", teehr_relative_bias)\n",
    "spark.udf.register(\"teehr_r_squared\", teehr_r_squared)"
   ]
  },
  {
   "cell_type": "code",
   "execution_count": 12,
   "id": "a9d5a744-3df4-4ef3-ad6c-d42c6984e698",
   "metadata": {},
   "outputs": [
    {
     "name": "stderr",
     "output_type": "stream",
     "text": [
      "[Stage 15:=====================================================>(198 + 2) / 200]\r"
     ]
    },
    {
     "name": "stdout",
     "output_type": "stream",
     "text": [
      "+-------------------+----------------------+-----------------------+-------------+-----------+\n",
      "|primary_location_id|kling_gupta_efficiency|root_mean_squared_error|relative_bias|  r_squared|\n",
      "+-------------------+----------------------+-----------------------+-------------+-----------+\n",
      "|      usgs-01010000|             0.7197487|              93.688675|    0.1379642|  0.5716339|\n",
      "|      usgs-01010070|            0.64957094|              14.360057|  -0.07752601| 0.44042128|\n",
      "|      usgs-01010500|            0.74391365|              145.41783|  0.036977984| 0.70574176|\n",
      "|      usgs-01011000|             0.6479533|               49.79671|   0.05642169| 0.74898195|\n",
      "|      usgs-01013500|            0.39131734|               42.23165| -0.042349346|  0.6445334|\n",
      "|      usgs-01014000|            0.66906583|              248.39078|-0.0023849339|  0.7511065|\n",
      "|      usgs-01015800|              0.651026|              40.082417|  -0.09978306|  0.7559192|\n",
      "|      usgs-01017000|             0.6505159|               74.44797| -0.101246335| 0.73838836|\n",
      "|      usgs-01017060|             0.6771656|              0.4167737| -0.014227826| 0.49163157|\n",
      "|      usgs-01017290|            0.69577533|              17.386557|  0.009264052| 0.49025127|\n",
      "|      usgs-01017550|             0.4873216|             0.40828812|   0.02458444| 0.23806328|\n",
      "|      usgs-01017960|             0.6189886|               8.067793| -0.042717416| 0.42139468|\n",
      "|      usgs-01018000|             0.6277438|              15.599126|    -0.055249| 0.41057372|\n",
      "|      usgs-01018009|            0.47563878|              0.5951423|   0.28485602|  0.4559476|\n",
      "|      usgs-01018035|             0.7527073|              17.255585|    0.0271034|  0.5904051|\n",
      "|      usgs-01018500|            0.17667884|              20.437437|   -0.3832167|0.112555966|\n",
      "|      usgs-01019000|           -0.28610432|               10.63453|   -0.5557939| 0.06289645|\n",
      "|      usgs-01021000|            0.53052163|               43.83663|  -0.31966367| 0.66806877|\n",
      "|      usgs-01021470|             0.7080741|             0.36658797| -0.090079546|  0.5225105|\n",
      "|      usgs-01021480|             0.8161562|              1.2657453|  -0.06696106|  0.7241807|\n",
      "+-------------------+----------------------+-----------------------+-------------+-----------+\n",
      "only showing top 20 rows\n",
      "\n",
      "CPU times: user 168 ms, sys: 32 ms, total: 200 ms\n",
      "Wall time: 1min 53s\n"
     ]
    },
    {
     "name": "stderr",
     "output_type": "stream",
     "text": [
      "                                                                                \r"
     ]
    }
   ],
   "source": [
    "%%time\n",
    "sdf = spark.sql(\"\"\"\n",
    "WITH metrics AS (\n",
    "    SELECT\n",
    "        joined.primary_location_id\n",
    "        , teehr_kling_gupta_efficiency(joined.primary_value, joined.secondary_value) as kling_gupta_efficiency\n",
    "        , teehr_root_mean_squared_error(joined.primary_value, joined.secondary_value) as root_mean_squared_error\n",
    "        , teehr_relative_bias(joined.primary_value, joined.secondary_value) as relative_bias\n",
    "        , teehr_r_squared(joined.primary_value, joined.secondary_value) as r_squared\n",
    "    FROM\n",
    "        proto.joined as joined\n",
    "    GROUP BY\n",
    "        joined.primary_location_id\n",
    ")\n",
    "SELECT\n",
    "    metrics.primary_location_id\n",
    "    , kling_gupta_efficiency\n",
    "    , root_mean_squared_error\n",
    "    , relative_bias\n",
    "    , r_squared\n",
    "FROM metrics\n",
    "ORDER BY\n",
    "    metrics.primary_location_id;\n",
    "\"\"\")\n",
    "sdf.show()"
   ]
  },
  {
   "cell_type": "code",
   "execution_count": 13,
   "id": "7a30826c-2bca-4cf4-9854-28f1b30175fd",
   "metadata": {},
   "outputs": [
    {
     "name": "stderr",
     "output_type": "stream",
     "text": [
      "[Stage 16:====================================================> (193 + 7) / 200]\r"
     ]
    },
    {
     "name": "stdout",
     "output_type": "stream",
     "text": [
      "+-------------------+----------------------+-----------------------+-------------+---------+\n",
      "|primary_location_id|kling_gupta_efficiency|root_mean_squared_error|relative_bias|r_squared|\n",
      "+-------------------+----------------------+-----------------------+-------------+---------+\n",
      "|      usgs-01021480|             0.8161562|              1.2657453|  -0.06696106|0.7241807|\n",
      "+-------------------+----------------------+-----------------------+-------------+---------+\n",
      "\n",
      "CPU times: user 11.8 ms, sys: 14.8 ms, total: 26.6 ms\n",
      "Wall time: 8.32 s\n"
     ]
    },
    {
     "name": "stderr",
     "output_type": "stream",
     "text": [
      "                                                                                \r"
     ]
    }
   ],
   "source": [
    "%%time\n",
    "sdf = spark.sql(\"\"\"\n",
    "WITH metrics AS (\n",
    "    SELECT\n",
    "        joined.primary_location_id\n",
    "        , teehr_kling_gupta_efficiency(joined.primary_value, joined.secondary_value) as kling_gupta_efficiency\n",
    "        , teehr_root_mean_squared_error(joined.primary_value, joined.secondary_value) as root_mean_squared_error\n",
    "        , teehr_relative_bias(joined.primary_value, joined.secondary_value) as relative_bias\n",
    "        , teehr_r_squared(joined.primary_value, joined.secondary_value) as r_squared\n",
    "    FROM\n",
    "        proto.joined as joined\n",
    "    GROUP BY\n",
    "        joined.primary_location_id\n",
    ")\n",
    "SELECT\n",
    "    metrics.primary_location_id\n",
    "    , kling_gupta_efficiency\n",
    "    , root_mean_squared_error\n",
    "    , relative_bias\n",
    "    , r_squared\n",
    "FROM metrics\n",
    "WHERE\n",
    "    primary_location_id='usgs-01021480'\n",
    "ORDER BY\n",
    "    metrics.primary_location_id;\n",
    "\"\"\")\n",
    "sdf.show()"
   ]
  },
  {
   "cell_type": "code",
   "execution_count": 14,
   "id": "934183bc-3f9a-46bb-922c-34843e06f77a",
   "metadata": {},
   "outputs": [
    {
     "name": "stderr",
     "output_type": "stream",
     "text": [
      "24/05/13 16:41:57 WARN ExecutorPodsWatchSnapshotSource: Kubernetes client has been closed.\n"
     ]
    }
   ],
   "source": [
    "spark.stop()"
   ]
  },
  {
   "cell_type": "code",
   "execution_count": null,
   "id": "38a50f85-8a24-4df1-8a90-0a66329e2581",
   "metadata": {},
   "outputs": [],
   "source": []
  }
 ],
 "metadata": {
  "kernelspec": {
   "display_name": "Python 3 (ipykernel)",
   "language": "python",
   "name": "python3"
  },
  "language_info": {
   "codemirror_mode": {
    "name": "ipython",
    "version": 3
   },
   "file_extension": ".py",
   "mimetype": "text/x-python",
   "name": "python",
   "nbconvert_exporter": "python",
   "pygments_lexer": "ipython3",
   "version": "3.10.12"
  }
 },
 "nbformat": 4,
 "nbformat_minor": 5
}
