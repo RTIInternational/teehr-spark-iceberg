{
 "cells": [
  {
   "cell_type": "markdown",
   "id": "247fb2ab",
   "metadata": {},
   "source": [
    "### TEEHR with Spark and Iceberg"
   ]
  },
  {
   "cell_type": "code",
   "execution_count": null,
   "id": "d21cdf61-0056-4208-baf6-8c223d6481a9",
   "metadata": {},
   "outputs": [],
   "source": [
    "import os\n",
    "import duckdb\n",
    "import numpy as np\n",
    "from pyspark.sql.functions import pandas_udf\n",
    "import pandas as pd\n",
    "from urllib.request import urlretrieve\n",
    "import gc"
   ]
  },
  {
   "cell_type": "code",
   "execution_count": null,
   "id": "f2f16fa4-e55a-42d7-98f6-bc9457f6798c",
   "metadata": {},
   "outputs": [],
   "source": [
    "from pyspark.sql import SparkSession\n",
    "from pyspark import SparkConf"
   ]
  },
  {
   "cell_type": "code",
   "execution_count": null,
   "id": "d4230e7f-7edd-4ce2-867a-5dd9e5033387",
   "metadata": {},
   "outputs": [],
   "source": [
    "config = {\n",
    "    \"spark.kubernetes.authenticate.driver.serviceAccountName\": \"jupyter\",\n",
    "    \"spark.kubernetes.namespace\": \"teehr-spark-default\",\n",
    "    \"spark.kubernetes.container.image\": os.environ[\"TEEHR_WORKER_IMAGE\"],\n",
    "    \"spark.executor.extraJavaOptions=-Daws.region\": \"us-east-1\",\n",
    "    \"spark.driver.extraJavaOptions=-Daws.region\": \"us-east-1\",\n",
    "    \"spark.executor.instances\": \"6\",\n",
    "    \"spark.executor.memory\": \"16g\",\n",
    "    \"spark.executor.cores\": \"2\",\n",
    "    \"spark.driver.blockManager.port\": \"7777\",\n",
    "    \"spark.driver.port\": \"2222\",\n",
    "    \"spark.driver.host\": \"jupyter.teehr-spark-default.svc.cluster.local\",\n",
    "    \"spark.driver.bindAddress\": \"0.0.0.0\",\n",
    "    \"spark.hadoop.fs.s3a.impl\": \"org.apache.hadoop.fs.s3a.S3AFileSystem\",\n",
    "    \"spark.hadoop.fs.s3a.aws.credentials.provider\": \"org.apache.hadoop.fs.s3a.AnonymousAWSCredentialsProvider\",\n",
    "    \"spark.sql.catalog.demo.s3.access-key-id\": \"minio\",\n",
    "    \"spark.sql.catalog.demo.s3.secret-access-key\": \"password123\",\n",
    "    \"spark.sql.parquet.enableVectorizedReader\": \"false\",\n",
    "    \"spark.kubernetes.executor.node.selector.dedicated\": \"worker\",\n",
    "    \"spark.kubernetes.executor.podTemplateFile\": \"/home/spark/pod-template.yaml\",\n",
    "}\n",
    "\n",
    "def get_spark_session(app_name: str, conf: SparkConf):\n",
    "    conf.setMaster(\"k8s://https://kubernetes.default.svc.cluster.local\")\n",
    "    for key, value in config.items():\n",
    "        conf.set(key, value)    \n",
    "    return SparkSession.builder.appName(app_name).config(conf=conf).getOrCreate()"
   ]
  },
  {
   "cell_type": "code",
   "execution_count": null,
   "id": "4aebae7c-bfdd-4074-b688-e3e5abbbd6b7",
   "metadata": {},
   "outputs": [],
   "source": [
    "spark = get_spark_session(\"teehr-workers\", SparkConf())\n",
    "# spark.sparkContext.getConf().getAll()"
   ]
  },
  {
   "cell_type": "code",
   "execution_count": null,
   "id": "595871f4-e141-4a54-85f4-35b684a7a148",
   "metadata": {},
   "outputs": [],
   "source": [
    "obs = spark.read.parquet(\"s3a://ciroh-rti-public-data/teehr-data-warehouse/common/observations/usgs_streamflow/*.parquet\")"
   ]
  },
  {
   "cell_type": "code",
   "execution_count": null,
   "id": "c34d7c01-2c1b-4486-b706-302c180020c7",
   "metadata": {},
   "outputs": [],
   "source": [
    "obs.count()"
   ]
  },
  {
   "cell_type": "code",
   "execution_count": null,
   "id": "fb93232a-d927-4910-9676-e1625bf94046",
   "metadata": {},
   "outputs": [],
   "source": [
    "sim = spark.read.parquet(\"s3a://ciroh-rti-public-data/teehr-data-warehouse/common/baselines/nwm30_retrospective_conus/*.parquet\")"
   ]
  },
  {
   "cell_type": "code",
   "execution_count": null,
   "id": "d2c94abd-f943-491f-9c54-873effb8edd6",
   "metadata": {},
   "outputs": [],
   "source": [
    "sim.count()"
   ]
  },
  {
   "cell_type": "code",
   "execution_count": null,
   "id": "b9291c97-8c9e-4c69-8253-46dccbe91a3c",
   "metadata": {},
   "outputs": [],
   "source": [
    "xw = spark.read.parquet(\"s3a://ciroh-rti-public-data/teehr-data-warehouse/common/crosswalks/usgs_nwm30_crosswalk.conus.parquet\")"
   ]
  },
  {
   "cell_type": "code",
   "execution_count": null,
   "id": "76973fd2-14cb-4279-bc7a-c3c8e296b787",
   "metadata": {},
   "outputs": [],
   "source": [
    "xw.count()"
   ]
  },
  {
   "cell_type": "code",
   "execution_count": null,
   "id": "8c3baa0b-5813-4920-8f50-262c2107e0e9",
   "metadata": {},
   "outputs": [],
   "source": [
    "obs.createTempView(\"obs_temp\")"
   ]
  },
  {
   "cell_type": "code",
   "execution_count": null,
   "id": "0f01e392-c7bf-4adc-b633-b0a85940caf1",
   "metadata": {},
   "outputs": [],
   "source": [
    "sim.createTempView(\"sim_temp\")"
   ]
  },
  {
   "cell_type": "code",
   "execution_count": null,
   "id": "8fc1c60e-ba27-43bd-a0e4-e7a5e3e39fae",
   "metadata": {},
   "outputs": [],
   "source": [
    "xw.createTempView(\"xw_temp\")"
   ]
  },
  {
   "cell_type": "code",
   "execution_count": null,
   "id": "30548e16-0cab-4815-905c-b92e749a8fac",
   "metadata": {},
   "outputs": [],
   "source": [
    "# Join from S3\n",
    "sdf = spark.sql(\"\"\"\n",
    "SELECT\n",
    "        sf.reference_time\n",
    "        , sf.value_time as value_time\n",
    "        , sf.location_id as secondary_location_id\n",
    "        , pf.reference_time as reference_time\n",
    "        , sf.value as secondary_value\n",
    "        , sf.configuration\n",
    "        , sf.measurement_unit\n",
    "        , sf.variable_name\n",
    "        , pf.value as primary_value\n",
    "        , pf.location_id as primary_location_id\n",
    "    FROM sim_temp sf\n",
    "    JOIN xw_temp cf\n",
    "        on cf.secondary_location_id = sf.location_id\n",
    "    JOIN obs_temp pf\n",
    "        on cf.primary_location_id = pf.location_id\n",
    "        and sf.value_time = pf.value_time\n",
    "        and sf.measurement_unit = pf.measurement_unit\n",
    "        and sf.variable_name = pf.variable_name\n",
    "\"\"\")"
   ]
  },
  {
   "cell_type": "code",
   "execution_count": null,
   "id": "be3767ff-6a42-4dab-96d8-088d27ddc22f",
   "metadata": {},
   "outputs": [],
   "source": [
    "%%time\n",
    "sdf.count()"
   ]
  },
  {
   "cell_type": "code",
   "execution_count": null,
   "id": "0ca02c56-b2ba-482b-ad74-f43fb7d0d3e0",
   "metadata": {},
   "outputs": [],
   "source": [
    "from pandas_udfs import * \n",
    "spark.udf.register(\"teehr_kling_gupta_efficiency\", teehr_kling_gupta_efficiency)\n",
    "spark.udf.register(\"teehr_root_mean_squared_error\", teehr_root_mean_squared_error)\n",
    "spark.udf.register(\"teehr_relative_bias\", teehr_relative_bias)\n",
    "spark.udf.register(\"teehr_r_squared\", teehr_r_squared)"
   ]
  },
  {
   "cell_type": "code",
   "execution_count": null,
   "id": "aae57474-89e9-40a6-894b-54ffa0dd0d4d",
   "metadata": {},
   "outputs": [],
   "source": [
    "%%time\n",
    "sdf = spark.sql(\"\"\"\n",
    "WITH joined as (\n",
    "    SELECT\n",
    "        sf.reference_time\n",
    "        , sf.value_time as value_time\n",
    "        , sf.location_id as secondary_location_id\n",
    "        , pf.reference_time as reference_time\n",
    "        , sf.value as secondary_value\n",
    "        , sf.configuration\n",
    "        , sf.measurement_unit\n",
    "        , sf.variable_name\n",
    "        , pf.value as primary_value\n",
    "        , pf.location_id as primary_location_id\n",
    "    FROM sim_temp sf\n",
    "    JOIN xw_temp cf\n",
    "        on cf.secondary_location_id = sf.location_id\n",
    "    JOIN obs_temp pf\n",
    "        on cf.primary_location_id = pf.location_id\n",
    "        and sf.value_time = pf.value_time\n",
    "        and sf.measurement_unit = pf.measurement_unit\n",
    "        and sf.variable_name = pf.variable_name\n",
    ")\n",
    ", metrics AS (\n",
    "    SELECT\n",
    "        joined.primary_location_id\n",
    "        , teehr_kling_gupta_efficiency(joined.primary_value, joined.secondary_value) as kling_gupta_efficiency\n",
    "        , teehr_root_mean_squared_error(joined.primary_value, joined.secondary_value) as root_mean_squared_error\n",
    "        , teehr_relative_bias(joined.primary_value, joined.secondary_value) as relative_bias\n",
    "        , teehr_r_squared(joined.primary_value, joined.secondary_value) as r_squared\n",
    "    FROM\n",
    "        joined\n",
    "    GROUP BY\n",
    "        joined.primary_location_id\n",
    ")\n",
    "SELECT\n",
    "    metrics.primary_location_id\n",
    "    , kling_gupta_efficiency\n",
    "    , root_mean_squared_error\n",
    "    , relative_bias\n",
    "    , r_squared\n",
    "FROM metrics\n",
    "ORDER BY\n",
    "    metrics.primary_location_id\n",
    "LIMIT 20;\n",
    "\"\"\")\n",
    "sdf.show()"
   ]
  },
  {
   "cell_type": "code",
   "execution_count": null,
   "id": "934183bc-3f9a-46bb-922c-34843e06f77a",
   "metadata": {},
   "outputs": [],
   "source": [
    "spark.stop()"
   ]
  },
  {
   "cell_type": "code",
   "execution_count": null,
   "id": "38a50f85-8a24-4df1-8a90-0a66329e2581",
   "metadata": {},
   "outputs": [],
   "source": []
  }
 ],
 "metadata": {
  "kernelspec": {
   "display_name": "Python 3 (ipykernel)",
   "language": "python",
   "name": "python3"
  },
  "language_info": {
   "codemirror_mode": {
    "name": "ipython",
    "version": 3
   },
   "file_extension": ".py",
   "mimetype": "text/x-python",
   "name": "python",
   "nbconvert_exporter": "python",
   "pygments_lexer": "ipython3",
   "version": "3.10.12"
  }
 },
 "nbformat": 4,
 "nbformat_minor": 5
}
